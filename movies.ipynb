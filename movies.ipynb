{
 "cells": [
  {
   "cell_type": "code",
   "execution_count": 1,
   "metadata": {},
   "outputs": [],
   "source": [
    "import json\n",
    "import pandas as pd\n",
    "import numpy as np"
   ]
  },
  {
   "cell_type": "code",
   "execution_count": 2,
   "metadata": {},
   "outputs": [],
   "source": [
    "file_dir='/Users/dphipps/Documents/bootcamp/module8/Movies-ETL/'"
   ]
  },
  {
   "cell_type": "code",
   "execution_count": 3,
   "metadata": {},
   "outputs": [],
   "source": [
    "with open(f'{file_dir}wikipedia.movies.json', mode='r') as file:\n",
    "    wiki_movies_raw = json.load(file)"
   ]
  },
  {
   "cell_type": "code",
   "execution_count": 4,
   "metadata": {},
   "outputs": [
    {
     "output_type": "execute_result",
     "data": {
      "text/plain": "7311"
     },
     "metadata": {},
     "execution_count": 4
    }
   ],
   "source": [
    "len(wiki_movies_raw)"
   ]
  },
  {
   "cell_type": "code",
   "execution_count": 5,
   "metadata": {},
   "outputs": [
    {
     "output_type": "execute_result",
     "data": {
      "text/plain": "[{'url': 'https://en.wikipedia.org/wiki/The_Adventures_of_Ford_Fairlane',\n  'year': 1990,\n  'imdb_link': 'https://www.imdb.com/title/tt0098987/',\n  'title': 'The Adventures of Ford Fairlane',\n  'Directed by': 'Renny Harlin',\n  'Produced by': ['Steve Perry', 'Joel Silver'],\n  'Screenplay by': ['David Arnott', 'James Cappe', 'Daniel Waters'],\n  'Story by': ['David Arnott', 'James Cappe'],\n  'Based on': ['Characters', 'by Rex Weiner'],\n  'Starring': ['Andrew Dice Clay',\n   'Wayne Newton',\n   'Priscilla Presley',\n   'Lauren Holly',\n   'Morris Day',\n   'Robert Englund',\n   \"Ed O'Neill\"],\n  'Narrated by': 'Andrew \"Dice\" Clay',\n  'Music by': ['Cliff Eidelman', 'Yello'],\n  'Cinematography': 'Oliver Wood',\n  'Edited by': 'Michael Tronick',\n  'Productioncompany ': 'Silver Pictures',\n  'Distributed by': '20th Century Fox',\n  'Release date': ['July 11, 1990', '(', '1990-07-11', ')'],\n  'Running time': '102 minutes',\n  'Country': 'United States',\n  'Language': 'English',\n  'Budget': '$20 million',\n  'Box office': '$21.4 million'}]"
     },
     "metadata": {},
     "execution_count": 5
    }
   ],
   "source": [
    "wiki_movies_raw[:1]"
   ]
  },
  {
   "cell_type": "code",
   "execution_count": 6,
   "metadata": {},
   "outputs": [],
   "source": [
    "kaggle_metadata = pd.read_csv(f'{file_dir}movies_metadata.csv')\n",
    "ratings = pd.read_csv(f'{file_dir}ratings.csv')"
   ]
  },
  {
   "cell_type": "code",
   "execution_count": 7,
   "metadata": {},
   "outputs": [
    {
     "output_type": "execute_result",
     "data": {
      "text/plain": "       adult                              belongs_to_collection    budget  \\\n11313  False                                                NaN         0   \n34543  False                                                NaN         0   \n5657   False                                                NaN         0   \n10411  False  {'id': 529, 'name': 'Wallace & Gromit Collecti...  30000000   \n21182  False                                                NaN         0   \n\n                                                  genres  \\\n11313                     [{'id': 35, 'name': 'Comedy'}]   \n34543  [{'id': 53, 'name': 'Thriller'}, {'id': 878, '...   \n5657                       [{'id': 18, 'name': 'Drama'}]   \n10411  [{'id': 12, 'name': 'Adventure'}, {'id': 16, '...   \n21182  [{'id': 18, 'name': 'Drama'}, {'id': 35, 'name...   \n\n                                                homepage      id    imdb_id  \\\n11313                                                NaN   36249  tt0337114   \n34543                                                NaN  104945  tt0173184   \n5657                                                 NaN   48155  tt0047880   \n10411  http://www.wallaceandgromit.com/films/the-curs...     533  tt0312004   \n21182                                                NaN  117530  tt1572146   \n\n      original_language                      original_title  \\\n11313                en  Romy and Michele: In the Beginning   \n34543                en          Senza sapere niente di lei   \n5657                 en                       The Big Knife   \n10411                en        The Curse of the Were-Rabbit   \n21182                en                               Amaya   \n\n                                                overview  ... release_date  \\\n11313  This time around it's 1987, and new high schoo...  ...   2005-01-01   \n34543  Tells a dark story about a young lawyer that f...  ...   1969-11-18   \n5657   An unscrupulous movie producer blackmails an u...  ...   1955-10-25   \n10411  Cheese-loving eccentric Wallace and his cunnin...  ...   2005-09-04   \n21182  One week in one of the most exotic and picture...  ...   2010-09-16   \n\n           revenue runtime                                   spoken_languages  \\\n11313          0.0   120.0           [{'iso_639_1': 'en', 'name': 'English'}]   \n34543          0.0    96.0                                                 []   \n5657           0.0   111.0  [{'iso_639_1': 'es', 'name': 'Español'}, {'iso...   \n10411  192452832.0    85.0           [{'iso_639_1': 'en', 'name': 'English'}]   \n21182          0.0    88.0  [{'iso_639_1': 'ja', 'name': '日本語'}, {'iso_639...   \n\n         status                                    tagline  \\\n11313  Released                                        NaN   \n34543  Released                                        NaN   \n5657   Released  A journey to the dark heart of Hollywood.   \n10411  Released             Something bunny is going on...   \n21182  Released                                        NaN   \n\n                                    title  video vote_average vote_count  \n11313  Romy and Michele: In the Beginning  False          4.0        6.0  \n34543  Without Knowing Anything About Her  False          0.0        0.0  \n5657                        The Big Knife  False          5.9       13.0  \n10411        The Curse of the Were-Rabbit  False          6.8      660.0  \n21182              Hong Kong Confidential  False          6.0        2.0  \n\n[5 rows x 24 columns]",
      "text/html": "<div>\n<style scoped>\n    .dataframe tbody tr th:only-of-type {\n        vertical-align: middle;\n    }\n\n    .dataframe tbody tr th {\n        vertical-align: top;\n    }\n\n    .dataframe thead th {\n        text-align: right;\n    }\n</style>\n<table border=\"1\" class=\"dataframe\">\n  <thead>\n    <tr style=\"text-align: right;\">\n      <th></th>\n      <th>adult</th>\n      <th>belongs_to_collection</th>\n      <th>budget</th>\n      <th>genres</th>\n      <th>homepage</th>\n      <th>id</th>\n      <th>imdb_id</th>\n      <th>original_language</th>\n      <th>original_title</th>\n      <th>overview</th>\n      <th>...</th>\n      <th>release_date</th>\n      <th>revenue</th>\n      <th>runtime</th>\n      <th>spoken_languages</th>\n      <th>status</th>\n      <th>tagline</th>\n      <th>title</th>\n      <th>video</th>\n      <th>vote_average</th>\n      <th>vote_count</th>\n    </tr>\n  </thead>\n  <tbody>\n    <tr>\n      <th>11313</th>\n      <td>False</td>\n      <td>NaN</td>\n      <td>0</td>\n      <td>[{'id': 35, 'name': 'Comedy'}]</td>\n      <td>NaN</td>\n      <td>36249</td>\n      <td>tt0337114</td>\n      <td>en</td>\n      <td>Romy and Michele: In the Beginning</td>\n      <td>This time around it's 1987, and new high schoo...</td>\n      <td>...</td>\n      <td>2005-01-01</td>\n      <td>0.0</td>\n      <td>120.0</td>\n      <td>[{'iso_639_1': 'en', 'name': 'English'}]</td>\n      <td>Released</td>\n      <td>NaN</td>\n      <td>Romy and Michele: In the Beginning</td>\n      <td>False</td>\n      <td>4.0</td>\n      <td>6.0</td>\n    </tr>\n    <tr>\n      <th>34543</th>\n      <td>False</td>\n      <td>NaN</td>\n      <td>0</td>\n      <td>[{'id': 53, 'name': 'Thriller'}, {'id': 878, '...</td>\n      <td>NaN</td>\n      <td>104945</td>\n      <td>tt0173184</td>\n      <td>en</td>\n      <td>Senza sapere niente di lei</td>\n      <td>Tells a dark story about a young lawyer that f...</td>\n      <td>...</td>\n      <td>1969-11-18</td>\n      <td>0.0</td>\n      <td>96.0</td>\n      <td>[]</td>\n      <td>Released</td>\n      <td>NaN</td>\n      <td>Without Knowing Anything About Her</td>\n      <td>False</td>\n      <td>0.0</td>\n      <td>0.0</td>\n    </tr>\n    <tr>\n      <th>5657</th>\n      <td>False</td>\n      <td>NaN</td>\n      <td>0</td>\n      <td>[{'id': 18, 'name': 'Drama'}]</td>\n      <td>NaN</td>\n      <td>48155</td>\n      <td>tt0047880</td>\n      <td>en</td>\n      <td>The Big Knife</td>\n      <td>An unscrupulous movie producer blackmails an u...</td>\n      <td>...</td>\n      <td>1955-10-25</td>\n      <td>0.0</td>\n      <td>111.0</td>\n      <td>[{'iso_639_1': 'es', 'name': 'Español'}, {'iso...</td>\n      <td>Released</td>\n      <td>A journey to the dark heart of Hollywood.</td>\n      <td>The Big Knife</td>\n      <td>False</td>\n      <td>5.9</td>\n      <td>13.0</td>\n    </tr>\n    <tr>\n      <th>10411</th>\n      <td>False</td>\n      <td>{'id': 529, 'name': 'Wallace &amp; Gromit Collecti...</td>\n      <td>30000000</td>\n      <td>[{'id': 12, 'name': 'Adventure'}, {'id': 16, '...</td>\n      <td>http://www.wallaceandgromit.com/films/the-curs...</td>\n      <td>533</td>\n      <td>tt0312004</td>\n      <td>en</td>\n      <td>The Curse of the Were-Rabbit</td>\n      <td>Cheese-loving eccentric Wallace and his cunnin...</td>\n      <td>...</td>\n      <td>2005-09-04</td>\n      <td>192452832.0</td>\n      <td>85.0</td>\n      <td>[{'iso_639_1': 'en', 'name': 'English'}]</td>\n      <td>Released</td>\n      <td>Something bunny is going on...</td>\n      <td>The Curse of the Were-Rabbit</td>\n      <td>False</td>\n      <td>6.8</td>\n      <td>660.0</td>\n    </tr>\n    <tr>\n      <th>21182</th>\n      <td>False</td>\n      <td>NaN</td>\n      <td>0</td>\n      <td>[{'id': 18, 'name': 'Drama'}, {'id': 35, 'name...</td>\n      <td>NaN</td>\n      <td>117530</td>\n      <td>tt1572146</td>\n      <td>en</td>\n      <td>Amaya</td>\n      <td>One week in one of the most exotic and picture...</td>\n      <td>...</td>\n      <td>2010-09-16</td>\n      <td>0.0</td>\n      <td>88.0</td>\n      <td>[{'iso_639_1': 'ja', 'name': '日本語'}, {'iso_639...</td>\n      <td>Released</td>\n      <td>NaN</td>\n      <td>Hong Kong Confidential</td>\n      <td>False</td>\n      <td>6.0</td>\n      <td>2.0</td>\n    </tr>\n  </tbody>\n</table>\n<p>5 rows × 24 columns</p>\n</div>"
     },
     "metadata": {},
     "execution_count": 7
    }
   ],
   "source": [
    "kaggle_metadata.sample(n=5)"
   ]
  },
  {
   "cell_type": "code",
   "execution_count": 8,
   "metadata": {},
   "outputs": [
    {
     "output_type": "execute_result",
     "data": {
      "text/plain": "          userId  movieId  rating   timestamp\n3907165    40597     8197     4.5  1220254960\n6719562    69322     3471     3.0  1029856243\n24277678  252157      110     5.0   974657240\n716081      7278     1252     5.0  1158923205\n22159555  230076     2881     1.5  1181362640",
      "text/html": "<div>\n<style scoped>\n    .dataframe tbody tr th:only-of-type {\n        vertical-align: middle;\n    }\n\n    .dataframe tbody tr th {\n        vertical-align: top;\n    }\n\n    .dataframe thead th {\n        text-align: right;\n    }\n</style>\n<table border=\"1\" class=\"dataframe\">\n  <thead>\n    <tr style=\"text-align: right;\">\n      <th></th>\n      <th>userId</th>\n      <th>movieId</th>\n      <th>rating</th>\n      <th>timestamp</th>\n    </tr>\n  </thead>\n  <tbody>\n    <tr>\n      <th>3907165</th>\n      <td>40597</td>\n      <td>8197</td>\n      <td>4.5</td>\n      <td>1220254960</td>\n    </tr>\n    <tr>\n      <th>6719562</th>\n      <td>69322</td>\n      <td>3471</td>\n      <td>3.0</td>\n      <td>1029856243</td>\n    </tr>\n    <tr>\n      <th>24277678</th>\n      <td>252157</td>\n      <td>110</td>\n      <td>5.0</td>\n      <td>974657240</td>\n    </tr>\n    <tr>\n      <th>716081</th>\n      <td>7278</td>\n      <td>1252</td>\n      <td>5.0</td>\n      <td>1158923205</td>\n    </tr>\n    <tr>\n      <th>22159555</th>\n      <td>230076</td>\n      <td>2881</td>\n      <td>1.5</td>\n      <td>1181362640</td>\n    </tr>\n  </tbody>\n</table>\n</div>"
     },
     "metadata": {},
     "execution_count": 8
    }
   ],
   "source": [
    "ratings.sample(n=5)"
   ]
  },
  {
   "cell_type": "code",
   "execution_count": 16,
   "metadata": {},
   "outputs": [
    {
     "output_type": "execute_result",
     "data": {
      "text/plain": "24"
     },
     "metadata": {},
     "execution_count": 16
    }
   ],
   "source": [
    "len(kaggle_metadata.columns.to_list())"
   ]
  },
  {
   "cell_type": "code",
   "execution_count": 23,
   "metadata": {},
   "outputs": [
    {
     "output_type": "execute_result",
     "data": {
      "text/plain": "                                                 url    year  \\\n0  https://en.wikipedia.org/wiki/The_Adventures_o...  1990.0   \n1  https://en.wikipedia.org/wiki/After_Dark,_My_S...  1990.0   \n2   https://en.wikipedia.org/wiki/Air_America_(film)  1990.0   \n3    https://en.wikipedia.org/wiki/Alice_(1990_film)  1990.0   \n4      https://en.wikipedia.org/wiki/Almost_an_Angel  1990.0   \n\n                               imdb_link                            title  \\\n0  https://www.imdb.com/title/tt0098987/  The Adventures of Ford Fairlane   \n1  https://www.imdb.com/title/tt0098994/             After Dark, My Sweet   \n2  https://www.imdb.com/title/tt0099005/                      Air America   \n3  https://www.imdb.com/title/tt0099012/                            Alice   \n4  https://www.imdb.com/title/tt0099018/                  Almost an Angel   \n\n          Directed by                  Produced by  \\\n0        Renny Harlin   [Steve Perry, Joel Silver]   \n1         James Foley  [Ric Kidney, Robert Redlin]   \n2  Roger Spottiswoode               Daniel Melnick   \n3         Woody Allen              Robert Greenhut   \n4        John Cornell                 John Cornell   \n\n                                Screenplay by                     Story by  \\\n0  [David Arnott, James Cappe, Daniel Waters]  [David Arnott, James Cappe]   \n1                [James Foley, Robert Redlin]                          NaN   \n2                  [John Eskow, Richard Rush]                          NaN   \n3                                         NaN                          NaN   \n4                                         NaN                          NaN   \n\n                                            Based on  \\\n0                        [Characters, by Rex Weiner]   \n1  [the novel, After Dark, My Sweet, by, Jim Thom...   \n2             [Air America, by, Christopher Robbins]   \n3                                                NaN   \n4                                                NaN   \n\n                                            Starring  ... Predecessor  \\\n0  [Andrew Dice Clay, Wayne Newton, Priscilla Pre...  ...         NaN   \n1  [Jason Patric, Rachel Ward, Bruce Dern, George...  ...         NaN   \n2  [Mel Gibson, Robert Downey Jr., Nancy Travis, ...  ...         NaN   \n3  [Alec Baldwin, Blythe Danner, Judy Davis, Mia ...  ...         NaN   \n4        [Paul Hogan, Elias Koteas, Linda Kozlowski]  ...         NaN   \n\n  Founders Area served Products Services Russian Hebrew Revenue  \\\n0      NaN         NaN      NaN      NaN     NaN    NaN     NaN   \n1      NaN         NaN      NaN      NaN     NaN    NaN     NaN   \n2      NaN         NaN      NaN      NaN     NaN    NaN     NaN   \n3      NaN         NaN      NaN      NaN     NaN    NaN     NaN   \n4      NaN         NaN      NaN      NaN     NaN    NaN     NaN   \n\n  Operating income Polish  \n0              NaN    NaN  \n1              NaN    NaN  \n2              NaN    NaN  \n3              NaN    NaN  \n4              NaN    NaN  \n\n[5 rows x 193 columns]",
      "text/html": "<div>\n<style scoped>\n    .dataframe tbody tr th:only-of-type {\n        vertical-align: middle;\n    }\n\n    .dataframe tbody tr th {\n        vertical-align: top;\n    }\n\n    .dataframe thead th {\n        text-align: right;\n    }\n</style>\n<table border=\"1\" class=\"dataframe\">\n  <thead>\n    <tr style=\"text-align: right;\">\n      <th></th>\n      <th>url</th>\n      <th>year</th>\n      <th>imdb_link</th>\n      <th>title</th>\n      <th>Directed by</th>\n      <th>Produced by</th>\n      <th>Screenplay by</th>\n      <th>Story by</th>\n      <th>Based on</th>\n      <th>Starring</th>\n      <th>...</th>\n      <th>Predecessor</th>\n      <th>Founders</th>\n      <th>Area served</th>\n      <th>Products</th>\n      <th>Services</th>\n      <th>Russian</th>\n      <th>Hebrew</th>\n      <th>Revenue</th>\n      <th>Operating income</th>\n      <th>Polish</th>\n    </tr>\n  </thead>\n  <tbody>\n    <tr>\n      <th>0</th>\n      <td>https://en.wikipedia.org/wiki/The_Adventures_o...</td>\n      <td>1990.0</td>\n      <td>https://www.imdb.com/title/tt0098987/</td>\n      <td>The Adventures of Ford Fairlane</td>\n      <td>Renny Harlin</td>\n      <td>[Steve Perry, Joel Silver]</td>\n      <td>[David Arnott, James Cappe, Daniel Waters]</td>\n      <td>[David Arnott, James Cappe]</td>\n      <td>[Characters, by Rex Weiner]</td>\n      <td>[Andrew Dice Clay, Wayne Newton, Priscilla Pre...</td>\n      <td>...</td>\n      <td>NaN</td>\n      <td>NaN</td>\n      <td>NaN</td>\n      <td>NaN</td>\n      <td>NaN</td>\n      <td>NaN</td>\n      <td>NaN</td>\n      <td>NaN</td>\n      <td>NaN</td>\n      <td>NaN</td>\n    </tr>\n    <tr>\n      <th>1</th>\n      <td>https://en.wikipedia.org/wiki/After_Dark,_My_S...</td>\n      <td>1990.0</td>\n      <td>https://www.imdb.com/title/tt0098994/</td>\n      <td>After Dark, My Sweet</td>\n      <td>James Foley</td>\n      <td>[Ric Kidney, Robert Redlin]</td>\n      <td>[James Foley, Robert Redlin]</td>\n      <td>NaN</td>\n      <td>[the novel, After Dark, My Sweet, by, Jim Thom...</td>\n      <td>[Jason Patric, Rachel Ward, Bruce Dern, George...</td>\n      <td>...</td>\n      <td>NaN</td>\n      <td>NaN</td>\n      <td>NaN</td>\n      <td>NaN</td>\n      <td>NaN</td>\n      <td>NaN</td>\n      <td>NaN</td>\n      <td>NaN</td>\n      <td>NaN</td>\n      <td>NaN</td>\n    </tr>\n    <tr>\n      <th>2</th>\n      <td>https://en.wikipedia.org/wiki/Air_America_(film)</td>\n      <td>1990.0</td>\n      <td>https://www.imdb.com/title/tt0099005/</td>\n      <td>Air America</td>\n      <td>Roger Spottiswoode</td>\n      <td>Daniel Melnick</td>\n      <td>[John Eskow, Richard Rush]</td>\n      <td>NaN</td>\n      <td>[Air America, by, Christopher Robbins]</td>\n      <td>[Mel Gibson, Robert Downey Jr., Nancy Travis, ...</td>\n      <td>...</td>\n      <td>NaN</td>\n      <td>NaN</td>\n      <td>NaN</td>\n      <td>NaN</td>\n      <td>NaN</td>\n      <td>NaN</td>\n      <td>NaN</td>\n      <td>NaN</td>\n      <td>NaN</td>\n      <td>NaN</td>\n    </tr>\n    <tr>\n      <th>3</th>\n      <td>https://en.wikipedia.org/wiki/Alice_(1990_film)</td>\n      <td>1990.0</td>\n      <td>https://www.imdb.com/title/tt0099012/</td>\n      <td>Alice</td>\n      <td>Woody Allen</td>\n      <td>Robert Greenhut</td>\n      <td>NaN</td>\n      <td>NaN</td>\n      <td>NaN</td>\n      <td>[Alec Baldwin, Blythe Danner, Judy Davis, Mia ...</td>\n      <td>...</td>\n      <td>NaN</td>\n      <td>NaN</td>\n      <td>NaN</td>\n      <td>NaN</td>\n      <td>NaN</td>\n      <td>NaN</td>\n      <td>NaN</td>\n      <td>NaN</td>\n      <td>NaN</td>\n      <td>NaN</td>\n    </tr>\n    <tr>\n      <th>4</th>\n      <td>https://en.wikipedia.org/wiki/Almost_an_Angel</td>\n      <td>1990.0</td>\n      <td>https://www.imdb.com/title/tt0099018/</td>\n      <td>Almost an Angel</td>\n      <td>John Cornell</td>\n      <td>John Cornell</td>\n      <td>NaN</td>\n      <td>NaN</td>\n      <td>NaN</td>\n      <td>[Paul Hogan, Elias Koteas, Linda Kozlowski]</td>\n      <td>...</td>\n      <td>NaN</td>\n      <td>NaN</td>\n      <td>NaN</td>\n      <td>NaN</td>\n      <td>NaN</td>\n      <td>NaN</td>\n      <td>NaN</td>\n      <td>NaN</td>\n      <td>NaN</td>\n      <td>NaN</td>\n    </tr>\n  </tbody>\n</table>\n<p>5 rows × 193 columns</p>\n</div>"
     },
     "metadata": {},
     "execution_count": 23
    }
   ],
   "source": [
    "wiki_movies_df = pd.DataFrame(wiki_movies_raw)\n",
    "wiki_movies_df.head()\n"
   ]
  },
  {
   "cell_type": "code",
   "execution_count": 46,
   "metadata": {},
   "outputs": [
    {
     "output_type": "execute_result",
     "data": {
      "text/plain": "7076"
     },
     "metadata": {},
     "execution_count": 46
    }
   ],
   "source": [
    "wiki_movies = [movie for movie in wiki_movies_raw\n",
    "               if ('Director' in movie or 'Directed by' in movie)\n",
    "                   and 'imdb_link' in movie \n",
    "                   and 'No. of episodes' not in movie]\n",
    "len(wiki_movies)"
   ]
  },
  {
   "cell_type": "code",
   "execution_count": 60,
   "metadata": {},
   "outputs": [
    {
     "output_type": "execute_result",
     "data": {
      "text/plain": "['Adaptation by',\n 'Also known as',\n 'Animation by',\n 'Arabic',\n 'Audio format',\n 'Based on',\n 'Box office',\n 'Budget',\n 'Cantonese',\n 'Chinese',\n 'Cinematography',\n 'Color process',\n 'Composer(s)',\n 'Country',\n 'Country of origin',\n 'Created by',\n 'Directed by',\n 'Director',\n 'Distributed by',\n 'Distributor',\n 'Edited by',\n 'Editor(s)',\n 'Executive producer(s)',\n 'Followed by',\n 'French',\n 'Genre',\n 'Hangul',\n 'Hebrew',\n 'Hepburn',\n 'Japanese',\n 'Label',\n 'Language',\n 'Length',\n 'Literally',\n 'Mandarin',\n 'McCune–Reischauer',\n 'Music by',\n 'Narrated by',\n 'Original language(s)',\n 'Original network',\n 'Original release',\n 'Original title',\n 'Picture format',\n 'Polish',\n 'Preceded by',\n 'Produced by',\n 'Producer',\n 'Producer(s)',\n 'Production company(s)',\n 'Production location(s)',\n 'Productioncompanies ',\n 'Productioncompany ',\n 'Recorded',\n 'Release date',\n 'Released',\n 'Revised Romanization',\n 'Romanized',\n 'Running time',\n 'Russian',\n 'Screen story by',\n 'Screenplay by',\n 'Simplified',\n 'Starring',\n 'Story by',\n 'Suggested by',\n 'Theme music composer',\n 'Traditional',\n 'Venue',\n 'Voices of',\n 'Written by',\n 'Yiddish',\n 'imdb_link',\n 'title',\n 'url',\n 'year']"
     },
     "metadata": {},
     "execution_count": 60
    }
   ],
   "source": [
    "wiki_movies_df = pd.DataFrame(wiki_movies)\n",
    "sorted(wiki_movies_df.columns.tolist())\n"
   ]
  },
  {
   "cell_type": "code",
   "execution_count": 77,
   "metadata": {},
   "outputs": [
    {
     "output_type": "execute_result",
     "data": {
      "text/plain": "                                                  url  year  \\\n6834  https://en.wikipedia.org/wiki/The_Insult_(film)  2018   \n7058   https://en.wikipedia.org/wiki/Capernaum_(film)  2018   \n\n                                  imdb_link       title    Directed by  \\\n6834  https://www.imdb.com/title/tt7048622/  The Insult   Ziad Doueiri   \n7058  https://www.imdb.com/title/tt8267604/   Capernaum  Nadine Labaki   \n\n                                            Produced by  \\\n6834  [Rachid Bouchareb, Jean Bréhat, Julie Gayet, A...   \n7058                    [Michel Merkt, Khaled Mouzanar]   \n\n                                          Screenplay by  \\\n6834                                                NaN   \n7058  [Nadine Labaki, Jihad Hojaily, Michelle Keserw...   \n\n                                               Story by Based on  \\\n6834                                                NaN      NaN   \n7058  [Georges Khabbaz, Nadine Labaki, Michelle Kese...      NaN   \n\n                                               Starring Narrated by  \\\n6834                       [Adel Karam, Kamel El Basha]         NaN   \n7058  [Zain Al Rafeea, Yordanos Shiferaw, Boluwatife...         NaN   \n\n             Music by    Cinematography           Edited by  \\\n6834      Éric Neveux  Tommaso Fiorilli  Dominique Marcombe   \n7058  Khaled Mouzanar  Christopher Aoun     Konstantin Bock   \n\n                                     Productioncompany   \\\n6834  [Ezekiel Films, Tessalit Productions, Rouge In...   \n7058                                         Mooz Films   \n\n                                         Distributed by  \\\n6834  [Diaphana Films, (France), Italia Film, (Lebanon]   \n7058                             Sony Pictures Classics   \n\n                                           Release date Running time  \\\n6834  [31 August 2017, (, 2017-08-31, ), (, Venice, ...  112 minutes   \n7058  [17 May 2018, (, 2018-05-17, ), (, Cannes, ), ...  126 minutes   \n\n                Country           Language      Budget     Box office  \\\n6834  [France, Lebanon]    Lebanese Arabic         NaN   $1.6 million   \n7058            Lebanon  [Arabic, Amharic]  $4 million  $68.6 million   \n\n                        Written by Genre Theme music composer  \\\n6834  [Ziad Doueiri, Joelle Touma]   NaN                  NaN   \n7058                           NaN   NaN                  NaN   \n\n     Country of origin Original language(s) Producer(s) Editor(s)  \\\n6834               NaN                  NaN         NaN       NaN   \n7058               NaN                  NaN         NaN       NaN   \n\n     Production company(s) Original network Original release  \\\n6834                   NaN              NaN              NaN   \n7058                   NaN              NaN              NaN   \n\n     Productioncompanies  Executive producer(s) Production location(s)  \\\n6834                  NaN                   NaN                    NaN   \n7058                  NaN                   NaN                    NaN   \n\n     Distributor Picture format Audio format Voices of Followed by  \\\n6834         NaN            NaN          NaN       NaN         NaN   \n7058         NaN            NaN          NaN       NaN         NaN   \n\n     Composer(s) Created by Preceded by Adaptation by Suggested by  \\\n6834         NaN        NaN         NaN           NaN          NaN   \n7058         NaN        NaN         NaN           NaN          NaN   \n\n     Traditional Mandarin Released Recorded Venue Length Label Director  \\\n6834         NaN      NaN      NaN      NaN   NaN    NaN   NaN      NaN   \n7058         NaN      NaN      NaN      NaN   NaN    NaN   NaN      NaN   \n\n     Producer Also known as Animation by Color process Simplified French  \\\n6834      NaN           NaN          NaN           NaN        NaN    NaN   \n7058      NaN           NaN          NaN           NaN        NaN    NaN   \n\n     Screen story by Hangul Revised Romanization McCune–Reischauer  \\\n6834             NaN    NaN                  NaN               NaN   \n7058             NaN    NaN                  NaN               NaN   \n\n     Original title Japanese Hepburn    Literally Cantonese Chinese Yiddish  \\\n6834            NaN      NaN     NaN  Case No. 23       NaN     NaN     NaN   \n7058            NaN      NaN     NaN          NaN       NaN     NaN     NaN   \n\n           Arabic        Romanized Russian Hebrew Polish  \n6834  قضية رقم ٢٣  Qadiyya raqm 23     NaN    NaN    NaN  \n7058    کفرناحوم‎              NaN     NaN    NaN    NaN  ",
      "text/html": "<div>\n<style scoped>\n    .dataframe tbody tr th:only-of-type {\n        vertical-align: middle;\n    }\n\n    .dataframe tbody tr th {\n        vertical-align: top;\n    }\n\n    .dataframe thead th {\n        text-align: right;\n    }\n</style>\n<table border=\"1\" class=\"dataframe\">\n  <thead>\n    <tr style=\"text-align: right;\">\n      <th></th>\n      <th>url</th>\n      <th>year</th>\n      <th>imdb_link</th>\n      <th>title</th>\n      <th>Directed by</th>\n      <th>Produced by</th>\n      <th>Screenplay by</th>\n      <th>Story by</th>\n      <th>Based on</th>\n      <th>Starring</th>\n      <th>Narrated by</th>\n      <th>Music by</th>\n      <th>Cinematography</th>\n      <th>Edited by</th>\n      <th>Productioncompany</th>\n      <th>Distributed by</th>\n      <th>Release date</th>\n      <th>Running time</th>\n      <th>Country</th>\n      <th>Language</th>\n      <th>Budget</th>\n      <th>Box office</th>\n      <th>Written by</th>\n      <th>Genre</th>\n      <th>Theme music composer</th>\n      <th>Country of origin</th>\n      <th>Original language(s)</th>\n      <th>Producer(s)</th>\n      <th>Editor(s)</th>\n      <th>Production company(s)</th>\n      <th>Original network</th>\n      <th>Original release</th>\n      <th>Productioncompanies</th>\n      <th>Executive producer(s)</th>\n      <th>Production location(s)</th>\n      <th>Distributor</th>\n      <th>Picture format</th>\n      <th>Audio format</th>\n      <th>Voices of</th>\n      <th>Followed by</th>\n      <th>Composer(s)</th>\n      <th>Created by</th>\n      <th>Preceded by</th>\n      <th>Adaptation by</th>\n      <th>Suggested by</th>\n      <th>Traditional</th>\n      <th>Mandarin</th>\n      <th>Released</th>\n      <th>Recorded</th>\n      <th>Venue</th>\n      <th>Length</th>\n      <th>Label</th>\n      <th>Director</th>\n      <th>Producer</th>\n      <th>Also known as</th>\n      <th>Animation by</th>\n      <th>Color process</th>\n      <th>Simplified</th>\n      <th>French</th>\n      <th>Screen story by</th>\n      <th>Hangul</th>\n      <th>Revised Romanization</th>\n      <th>McCune–Reischauer</th>\n      <th>Original title</th>\n      <th>Japanese</th>\n      <th>Hepburn</th>\n      <th>Literally</th>\n      <th>Cantonese</th>\n      <th>Chinese</th>\n      <th>Yiddish</th>\n      <th>Arabic</th>\n      <th>Romanized</th>\n      <th>Russian</th>\n      <th>Hebrew</th>\n      <th>Polish</th>\n    </tr>\n  </thead>\n  <tbody>\n    <tr>\n      <th>6834</th>\n      <td>https://en.wikipedia.org/wiki/The_Insult_(film)</td>\n      <td>2018</td>\n      <td>https://www.imdb.com/title/tt7048622/</td>\n      <td>The Insult</td>\n      <td>Ziad Doueiri</td>\n      <td>[Rachid Bouchareb, Jean Bréhat, Julie Gayet, A...</td>\n      <td>NaN</td>\n      <td>NaN</td>\n      <td>NaN</td>\n      <td>[Adel Karam, Kamel El Basha]</td>\n      <td>NaN</td>\n      <td>Éric Neveux</td>\n      <td>Tommaso Fiorilli</td>\n      <td>Dominique Marcombe</td>\n      <td>[Ezekiel Films, Tessalit Productions, Rouge In...</td>\n      <td>[Diaphana Films, (France), Italia Film, (Lebanon]</td>\n      <td>[31 August 2017, (, 2017-08-31, ), (, Venice, ...</td>\n      <td>112 minutes</td>\n      <td>[France, Lebanon]</td>\n      <td>Lebanese Arabic</td>\n      <td>NaN</td>\n      <td>$1.6 million</td>\n      <td>[Ziad Doueiri, Joelle Touma]</td>\n      <td>NaN</td>\n      <td>NaN</td>\n      <td>NaN</td>\n      <td>NaN</td>\n      <td>NaN</td>\n      <td>NaN</td>\n      <td>NaN</td>\n      <td>NaN</td>\n      <td>NaN</td>\n      <td>NaN</td>\n      <td>NaN</td>\n      <td>NaN</td>\n      <td>NaN</td>\n      <td>NaN</td>\n      <td>NaN</td>\n      <td>NaN</td>\n      <td>NaN</td>\n      <td>NaN</td>\n      <td>NaN</td>\n      <td>NaN</td>\n      <td>NaN</td>\n      <td>NaN</td>\n      <td>NaN</td>\n      <td>NaN</td>\n      <td>NaN</td>\n      <td>NaN</td>\n      <td>NaN</td>\n      <td>NaN</td>\n      <td>NaN</td>\n      <td>NaN</td>\n      <td>NaN</td>\n      <td>NaN</td>\n      <td>NaN</td>\n      <td>NaN</td>\n      <td>NaN</td>\n      <td>NaN</td>\n      <td>NaN</td>\n      <td>NaN</td>\n      <td>NaN</td>\n      <td>NaN</td>\n      <td>NaN</td>\n      <td>NaN</td>\n      <td>NaN</td>\n      <td>Case No. 23</td>\n      <td>NaN</td>\n      <td>NaN</td>\n      <td>NaN</td>\n      <td>قضية رقم ٢٣</td>\n      <td>Qadiyya raqm 23</td>\n      <td>NaN</td>\n      <td>NaN</td>\n      <td>NaN</td>\n    </tr>\n    <tr>\n      <th>7058</th>\n      <td>https://en.wikipedia.org/wiki/Capernaum_(film)</td>\n      <td>2018</td>\n      <td>https://www.imdb.com/title/tt8267604/</td>\n      <td>Capernaum</td>\n      <td>Nadine Labaki</td>\n      <td>[Michel Merkt, Khaled Mouzanar]</td>\n      <td>[Nadine Labaki, Jihad Hojaily, Michelle Keserw...</td>\n      <td>[Georges Khabbaz, Nadine Labaki, Michelle Kese...</td>\n      <td>NaN</td>\n      <td>[Zain Al Rafeea, Yordanos Shiferaw, Boluwatife...</td>\n      <td>NaN</td>\n      <td>Khaled Mouzanar</td>\n      <td>Christopher Aoun</td>\n      <td>Konstantin Bock</td>\n      <td>Mooz Films</td>\n      <td>Sony Pictures Classics</td>\n      <td>[17 May 2018, (, 2018-05-17, ), (, Cannes, ), ...</td>\n      <td>126 minutes</td>\n      <td>Lebanon</td>\n      <td>[Arabic, Amharic]</td>\n      <td>$4 million</td>\n      <td>$68.6 million</td>\n      <td>NaN</td>\n      <td>NaN</td>\n      <td>NaN</td>\n      <td>NaN</td>\n      <td>NaN</td>\n      <td>NaN</td>\n      <td>NaN</td>\n      <td>NaN</td>\n      <td>NaN</td>\n      <td>NaN</td>\n      <td>NaN</td>\n      <td>NaN</td>\n      <td>NaN</td>\n      <td>NaN</td>\n      <td>NaN</td>\n      <td>NaN</td>\n      <td>NaN</td>\n      <td>NaN</td>\n      <td>NaN</td>\n      <td>NaN</td>\n      <td>NaN</td>\n      <td>NaN</td>\n      <td>NaN</td>\n      <td>NaN</td>\n      <td>NaN</td>\n      <td>NaN</td>\n      <td>NaN</td>\n      <td>NaN</td>\n      <td>NaN</td>\n      <td>NaN</td>\n      <td>NaN</td>\n      <td>NaN</td>\n      <td>NaN</td>\n      <td>NaN</td>\n      <td>NaN</td>\n      <td>NaN</td>\n      <td>NaN</td>\n      <td>NaN</td>\n      <td>NaN</td>\n      <td>NaN</td>\n      <td>NaN</td>\n      <td>NaN</td>\n      <td>NaN</td>\n      <td>NaN</td>\n      <td>NaN</td>\n      <td>NaN</td>\n      <td>NaN</td>\n      <td>NaN</td>\n      <td>کفرناحوم‎</td>\n      <td>NaN</td>\n      <td>NaN</td>\n      <td>NaN</td>\n      <td>NaN</td>\n    </tr>\n  </tbody>\n</table>\n</div>"
     },
     "metadata": {},
     "execution_count": 77
    }
   ],
   "source": [
    "wiki_movies_df[wiki_movies_df['Arabic'].notnull()]"
   ]
  },
  {
   "cell_type": "code",
   "execution_count": 79,
   "metadata": {},
   "outputs": [],
   "source": [
    "def clean_movie(movie):\n",
    "    movie = dict(movie) #create a non-destructive copy\n",
    "    alt_titles = {}\n",
    "    for key in ['Also known as','Arabic','Cantonese','Chinese','French',\n",
    "                'Hangul','Hebrew','Hepburn','Japanese','Literally',\n",
    "                'Mandarin','McCune–Reischauer','Original title','Polish',\n",
    "                'Revised Romanization','Romanized','Russian',\n",
    "                'Simplified','Traditional','Yiddish']:\n",
    "        if key in movie:\n",
    "            alt_titles[key] = movie[key]\n",
    "            movie.pop(key)\n",
    "    if len(alt_titles) > 0:\n",
    "        movie['alt_titles'] = alt_titles\n",
    "    return movie"
   ]
  },
  {
   "cell_type": "code",
   "execution_count": 81,
   "metadata": {},
   "outputs": [],
   "source": [
    "clean_movies = [clean_movie(movie) for movie in wiki_movies]"
   ]
  },
  {
   "cell_type": "code",
   "execution_count": 85,
   "metadata": {},
   "outputs": [
    {
     "output_type": "execute_result",
     "data": {
      "text/plain": "['Adaptation by',\n 'Animation by',\n 'Audio format',\n 'Based on',\n 'Box office',\n 'Budget',\n 'Cinematography',\n 'Color process',\n 'Composer(s)',\n 'Country',\n 'Country of origin',\n 'Created by',\n 'Directed by',\n 'Director',\n 'Distributed by',\n 'Distributor',\n 'Edited by',\n 'Editor(s)',\n 'Executive producer(s)',\n 'Followed by',\n 'Genre',\n 'Label',\n 'Language',\n 'Length',\n 'Music by',\n 'Narrated by',\n 'Original language(s)',\n 'Original network',\n 'Original release',\n 'Picture format',\n 'Preceded by',\n 'Produced by',\n 'Producer',\n 'Producer(s)',\n 'Production company(s)',\n 'Production location(s)',\n 'Productioncompanies ',\n 'Productioncompany ',\n 'Recorded',\n 'Release date',\n 'Released',\n 'Running time',\n 'Screen story by',\n 'Screenplay by',\n 'Starring',\n 'Story by',\n 'Suggested by',\n 'Theme music composer',\n 'Venue',\n 'Voices of',\n 'Written by',\n 'alt_titles',\n 'imdb_link',\n 'title',\n 'url',\n 'year']"
     },
     "metadata": {},
     "execution_count": 85
    }
   ],
   "source": [
    "wiki_movies_df = pd.DataFrame(clean_movies)\n",
    "sorted(wiki_movies_df.columns.tolist())"
   ]
  }
 ],
 "metadata": {
  "language_info": {
   "codemirror_mode": {
    "name": "ipython",
    "version": 3
   },
   "file_extension": ".py",
   "mimetype": "text/x-python",
   "name": "python",
   "nbconvert_exporter": "python",
   "pygments_lexer": "ipython3",
   "version": 3
  },
  "orig_nbformat": 2,
  "kernelspec": {
   "name": "python_defaultSpec_1595292314654",
   "display_name": "Python 3.7.7 64-bit"
  }
 },
 "nbformat": 4,
 "nbformat_minor": 2
}